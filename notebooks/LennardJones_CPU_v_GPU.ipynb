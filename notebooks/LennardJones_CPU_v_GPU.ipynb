{
 "cells": [
  {
   "cell_type": "markdown",
   "id": "1ad5962c-6222-445c-ab8e-b25de7bd221d",
   "metadata": {},
   "source": [
    "# Lennard-Jones Potential CPU vs. GPU\n",
    "---\n",
    "\n",
    "Author: Stefan Bringuier\n",
    "\n",
    "Email: <a href=mailto:stefanbringuier@gmail.com>stefanbringuier@gmail.com</a>\n"
   ]
  },
  {
   "cell_type": "code",
   "execution_count": 2,
   "id": "d943772a-07a0-4439-9064-79065f1b6701",
   "metadata": {},
   "outputs": [],
   "source": [
    "import numpy as np\n",
    "import pycuda.autoinit\n",
    "import pycuda.driver as drv\n",
    "from pycuda.compiler import SourceModule\n",
    "import time"
   ]
  },
  {
   "cell_type": "markdown",
   "id": "921372d7-24ef-4a4c-a3c6-56d170602dd3",
   "metadata": {},
   "source": [
    "Compute [Lennard-Jones potential](https://wikipedia.org/wiki/Lennard-Jones_potential) using a single CPU and a single GPU. The potential energy of atom $i$ is with all other atoms so no neighbor list is used. The GPU implementation uses pycuda to compile the function kernel to CUDA code."
   ]
  },
  {
   "cell_type": "code",
   "execution_count": 3,
   "id": "ec1236ef-7124-46d6-a3df-bdd0ac3299df",
   "metadata": {},
   "outputs": [],
   "source": [
    "# CPU implementation\n",
    "def lennard_jones_cpu(positions, epsilon, sigma):\n",
    "    num_atoms = positions.shape[0]\n",
    "    potential = np.zeros(num_atoms, dtype=np.float32)\n",
    "    \n",
    "    for i in range(num_atoms):\n",
    "        for j in range(num_atoms):\n",
    "            if i != j:\n",
    "                r = positions[i] - positions[j]\n",
    "                r2 = np.dot(r, r)\n",
    "                r6 = r2 * r2 * r2\n",
    "                r12 = r6 * r6\n",
    "                potential[i] += 4 * epsilon * ((sigma**12 / r12) - (sigma**6 / r6))\n",
    "    \n",
    "    return potential"
   ]
  },
  {
   "cell_type": "code",
   "execution_count": 13,
   "id": "aeb34a40-858e-4f5c-9bd1-608980ef0ccb",
   "metadata": {},
   "outputs": [],
   "source": [
    "# GPU implementation\n",
    "cuda_module = SourceModule(\"\"\"\n",
    "__global__ void lennard_jones_gpu(float *potential, float *positions, int num_atoms, float epsilon, float sigma)\n",
    "{\n",
    "    const int i = threadIdx.x + blockDim.x * blockIdx.x;\n",
    "    if (i < num_atoms) {\n",
    "        float total_potential = 0.0f;\n",
    "        float3 pos_i = make_float3(positions[3*i], positions[3*i+1], positions[3*i+2]);\n",
    "        float sigma6 = powf(sigma, 6);\n",
    "        float sigma12 = sigma6 * sigma6;\n",
    "        for (int j = 0; j < num_atoms; j++) {\n",
    "            if (i != j) {\n",
    "                float3 pos_j = make_float3(positions[3*j], positions[3*j+1], positions[3*j+2]);\n",
    "                float3 r = make_float3(pos_i.x - pos_j.x, pos_i.y - pos_j.y, pos_i.z - pos_j.z);\n",
    "                float r2 = r.x*r.x + r.y*r.y + r.z*r.z;\n",
    "                float r6 = r2*r2*r2;\n",
    "                float r12 = r6*r6;\n",
    "\n",
    "                total_potential += 4.0f * epsilon * ((sigma12/r12) - (sigma6/r6));\n",
    "            }\n",
    "        }\n",
    "        potential[i] = total_potential;\n",
    "    }\n",
    "}\n",
    "\"\"\")\n",
    "lennard_jones_gpu = cuda_module.get_function(\"lennard_jones_gpu\")"
   ]
  },
  {
   "cell_type": "code",
   "execution_count": 14,
   "id": "a37e1089-2e18-4b50-bdb6-9c70b71a40db",
   "metadata": {},
   "outputs": [],
   "source": [
    "# Benchmarking function\n",
    "def benchmark(num_atoms, epsilon, sigma):\n",
    "    positions = np.random.rand(num_atoms, 3).astype(np.float32)\n",
    "    \n",
    "    # CPU benchmark\n",
    "    start_time = time.time()\n",
    "    cpu_potential = lennard_jones_cpu(positions, epsilon, sigma)\n",
    "    cpu_time = time.time() - start_time\n",
    "    \n",
    "    # GPU benchmark\n",
    "    gpu_potential = np.zeros(num_atoms, dtype=np.float32)\n",
    "    start_time = time.time()\n",
    "    lennard_jones_gpu(\n",
    "        drv.Out(gpu_potential), drv.In(positions.ravel()),\n",
    "        np.int32(num_atoms), np.float32(epsilon), np.float32(sigma),\n",
    "        block=(256, 1, 1), grid=((num_atoms + 255) // 256, 1)\n",
    "    )\n",
    "    drv.Context.synchronize()\n",
    "    gpu_time = time.time() - start_time\n",
    "    \n",
    "    # Make sure arrays for CPU and GPU are within some floating point precision\n",
    "    np.testing.assert_allclose(cpu_potential, gpu_potential, rtol=1e-5, atol=1e-5)\n",
    "    \n",
    "    return cpu_time, gpu_time"
   ]
  },
  {
   "cell_type": "code",
   "execution_count": 15,
   "id": "1664d3fb-2f5a-419a-a353-27e866051b5f",
   "metadata": {},
   "outputs": [
    {
     "name": "stdout",
     "output_type": "stream",
     "text": [
      "Number of Atoms | CPU Time (s) | GPU Time (s) | Speedup\n",
      "----------------------------------------------------\n",
      "           100 |      0.1490 |      0.0008 |  183.40x\n",
      "           500 |      2.7130 |      0.0009 | 3140.79x\n",
      "          1000 |     10.8806 |      0.0009 | 11457.80x\n",
      "          2000 |     43.7833 |      0.0127 | 3441.92x\n",
      "          5000 |    274.5926 |      0.0135 | 20356.05x\n"
     ]
    }
   ],
   "source": [
    "# Run benchmarks for different system sizes\n",
    "system_sizes = [100, 500, 1000, 2000, 5000]\n",
    "epsilon = 1.0\n",
    "sigma = 1.0\n",
    "\n",
    "print(\"Number of Atoms | CPU Time (s) | GPU Time (s) | Speedup\")\n",
    "print(\"----------------------------------------------------\")\n",
    "\n",
    "for num_atoms in system_sizes:\n",
    "    cpu_time, gpu_time = benchmark(num_atoms, epsilon, sigma)\n",
    "    speedup = cpu_time / gpu_time\n",
    "    print(f\"{num_atoms:14d} | {cpu_time:11.4f} | {gpu_time:11.4f} | {speedup:7.2f}x\")"
   ]
  }
 ],
 "metadata": {
  "kernelspec": {
   "display_name": "Python 3 (ipykernel)",
   "language": "python",
   "name": "python3"
  },
  "language_info": {
   "codemirror_mode": {
    "name": "ipython",
    "version": 3
   },
   "file_extension": ".py",
   "mimetype": "text/x-python",
   "name": "python",
   "nbconvert_exporter": "python",
   "pygments_lexer": "ipython3",
   "version": "3.11.6"
  }
 },
 "nbformat": 4,
 "nbformat_minor": 5
}
