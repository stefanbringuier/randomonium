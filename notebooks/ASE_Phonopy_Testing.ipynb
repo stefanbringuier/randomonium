{
  "nbformat": 4,
  "nbformat_minor": 0,
  "metadata": {
    "colab": {
      "provenance": [],
      "gpuType": "T4",
      "mount_file_id": "1YuQcDYgzAdbPNZaRqdS_PZy1trnM8zpP",
      "authorship_tag": "ABX9TyOfeu1lDvnMxqDvdiQvLW6M",
      "include_colab_link": true
    },
    "kernelspec": {
      "name": "python3",
      "display_name": "Python 3"
    },
    "language_info": {
      "name": "python"
    },
    "accelerator": "GPU",
    "widgets": {
      "application/vnd.jupyter.widget-state+json": {
        "46a08114a65743889109bf40827df962": {
          "model_module": "@jupyter-widgets/controls",
          "model_name": "VBoxModel",
          "model_module_version": "1.5.0",
          "state": {
            "_dom_classes": [
              "widget-interact"
            ],
            "_model_module": "@jupyter-widgets/controls",
            "_model_module_version": "1.5.0",
            "_model_name": "VBoxModel",
            "_view_count": null,
            "_view_module": "@jupyter-widgets/controls",
            "_view_module_version": "1.5.0",
            "_view_name": "VBoxView",
            "box_style": "",
            "children": [
              "IPY_MODEL_3123163e19154a98ad9a80b7cc5f096c",
              "IPY_MODEL_c9e4e5e341684bf984c16d7c19f649c2",
              "IPY_MODEL_931cbba3281a46e99ca1fa716348783f"
            ],
            "layout": "IPY_MODEL_bf5300ed02b64cc7b291bf4435c5b4c4"
          }
        },
        "3123163e19154a98ad9a80b7cc5f096c": {
          "model_module": "@jupyter-widgets/controls",
          "model_name": "FloatSliderModel",
          "model_module_version": "1.5.0",
          "state": {
            "_dom_classes": [],
            "_model_module": "@jupyter-widgets/controls",
            "_model_module_version": "1.5.0",
            "_model_name": "FloatSliderModel",
            "_view_count": null,
            "_view_module": "@jupyter-widgets/controls",
            "_view_module_version": "1.5.0",
            "_view_name": "FloatSliderView",
            "continuous_update": false,
            "description": "Displacement:",
            "description_tooltip": null,
            "disabled": false,
            "layout": "IPY_MODEL_9d4e8b62b8a14e6b82e8d7eb67d42fe8",
            "max": 0.1,
            "min": 0.01,
            "orientation": "horizontal",
            "readout": true,
            "readout_format": ".2f",
            "step": 0.01,
            "style": "IPY_MODEL_effcf99eba3340129417e60a86ee5d9c",
            "value": 0.03
          }
        },
        "c9e4e5e341684bf984c16d7c19f649c2": {
          "model_module": "@jupyter-widgets/controls",
          "model_name": "IntSliderModel",
          "model_module_version": "1.5.0",
          "state": {
            "_dom_classes": [],
            "_model_module": "@jupyter-widgets/controls",
            "_model_module_version": "1.5.0",
            "_model_name": "IntSliderModel",
            "_view_count": null,
            "_view_module": "@jupyter-widgets/controls",
            "_view_module_version": "1.5.0",
            "_view_name": "IntSliderView",
            "continuous_update": false,
            "description": "n x n x n:",
            "description_tooltip": null,
            "disabled": false,
            "layout": "IPY_MODEL_15c6354c8a1e4c15a2eddf9c026c2930",
            "max": 10,
            "min": 2,
            "orientation": "horizontal",
            "readout": true,
            "readout_format": "d",
            "step": 1,
            "style": "IPY_MODEL_26b481c026d24b5e9619be62ba2295e9",
            "value": 6
          }
        },
        "931cbba3281a46e99ca1fa716348783f": {
          "model_module": "@jupyter-widgets/output",
          "model_name": "OutputModel",
          "model_module_version": "1.0.0",
          "state": {
            "_dom_classes": [],
            "_model_module": "@jupyter-widgets/output",
            "_model_module_version": "1.0.0",
            "_model_name": "OutputModel",
            "_view_count": null,
            "_view_module": "@jupyter-widgets/output",
            "_view_module_version": "1.0.0",
            "_view_name": "OutputView",
            "layout": "IPY_MODEL_f91af79ae481404c9cdd5458e321ebb9",
            "msg_id": "",
            "outputs": []
          }
        },
        "bf5300ed02b64cc7b291bf4435c5b4c4": {
          "model_module": "@jupyter-widgets/base",
          "model_name": "LayoutModel",
          "model_module_version": "1.2.0",
          "state": {
            "_model_module": "@jupyter-widgets/base",
            "_model_module_version": "1.2.0",
            "_model_name": "LayoutModel",
            "_view_count": null,
            "_view_module": "@jupyter-widgets/base",
            "_view_module_version": "1.2.0",
            "_view_name": "LayoutView",
            "align_content": null,
            "align_items": null,
            "align_self": null,
            "border": null,
            "bottom": null,
            "display": null,
            "flex": null,
            "flex_flow": null,
            "grid_area": null,
            "grid_auto_columns": null,
            "grid_auto_flow": null,
            "grid_auto_rows": null,
            "grid_column": null,
            "grid_gap": null,
            "grid_row": null,
            "grid_template_areas": null,
            "grid_template_columns": null,
            "grid_template_rows": null,
            "height": null,
            "justify_content": null,
            "justify_items": null,
            "left": null,
            "margin": null,
            "max_height": null,
            "max_width": null,
            "min_height": null,
            "min_width": null,
            "object_fit": null,
            "object_position": null,
            "order": null,
            "overflow": null,
            "overflow_x": null,
            "overflow_y": null,
            "padding": null,
            "right": null,
            "top": null,
            "visibility": null,
            "width": null
          }
        },
        "9d4e8b62b8a14e6b82e8d7eb67d42fe8": {
          "model_module": "@jupyter-widgets/base",
          "model_name": "LayoutModel",
          "model_module_version": "1.2.0",
          "state": {
            "_model_module": "@jupyter-widgets/base",
            "_model_module_version": "1.2.0",
            "_model_name": "LayoutModel",
            "_view_count": null,
            "_view_module": "@jupyter-widgets/base",
            "_view_module_version": "1.2.0",
            "_view_name": "LayoutView",
            "align_content": null,
            "align_items": null,
            "align_self": null,
            "border": null,
            "bottom": null,
            "display": null,
            "flex": null,
            "flex_flow": null,
            "grid_area": null,
            "grid_auto_columns": null,
            "grid_auto_flow": null,
            "grid_auto_rows": null,
            "grid_column": null,
            "grid_gap": null,
            "grid_row": null,
            "grid_template_areas": null,
            "grid_template_columns": null,
            "grid_template_rows": null,
            "height": null,
            "justify_content": null,
            "justify_items": null,
            "left": null,
            "margin": null,
            "max_height": null,
            "max_width": null,
            "min_height": null,
            "min_width": null,
            "object_fit": null,
            "object_position": null,
            "order": null,
            "overflow": null,
            "overflow_x": null,
            "overflow_y": null,
            "padding": null,
            "right": null,
            "top": null,
            "visibility": null,
            "width": null
          }
        },
        "effcf99eba3340129417e60a86ee5d9c": {
          "model_module": "@jupyter-widgets/controls",
          "model_name": "SliderStyleModel",
          "model_module_version": "1.5.0",
          "state": {
            "_model_module": "@jupyter-widgets/controls",
            "_model_module_version": "1.5.0",
            "_model_name": "SliderStyleModel",
            "_view_count": null,
            "_view_module": "@jupyter-widgets/base",
            "_view_module_version": "1.2.0",
            "_view_name": "StyleView",
            "description_width": "",
            "handle_color": null
          }
        },
        "15c6354c8a1e4c15a2eddf9c026c2930": {
          "model_module": "@jupyter-widgets/base",
          "model_name": "LayoutModel",
          "model_module_version": "1.2.0",
          "state": {
            "_model_module": "@jupyter-widgets/base",
            "_model_module_version": "1.2.0",
            "_model_name": "LayoutModel",
            "_view_count": null,
            "_view_module": "@jupyter-widgets/base",
            "_view_module_version": "1.2.0",
            "_view_name": "LayoutView",
            "align_content": null,
            "align_items": null,
            "align_self": null,
            "border": null,
            "bottom": null,
            "display": null,
            "flex": null,
            "flex_flow": null,
            "grid_area": null,
            "grid_auto_columns": null,
            "grid_auto_flow": null,
            "grid_auto_rows": null,
            "grid_column": null,
            "grid_gap": null,
            "grid_row": null,
            "grid_template_areas": null,
            "grid_template_columns": null,
            "grid_template_rows": null,
            "height": null,
            "justify_content": null,
            "justify_items": null,
            "left": null,
            "margin": null,
            "max_height": null,
            "max_width": null,
            "min_height": null,
            "min_width": null,
            "object_fit": null,
            "object_position": null,
            "order": null,
            "overflow": null,
            "overflow_x": null,
            "overflow_y": null,
            "padding": null,
            "right": null,
            "top": null,
            "visibility": null,
            "width": null
          }
        },
        "26b481c026d24b5e9619be62ba2295e9": {
          "model_module": "@jupyter-widgets/controls",
          "model_name": "SliderStyleModel",
          "model_module_version": "1.5.0",
          "state": {
            "_model_module": "@jupyter-widgets/controls",
            "_model_module_version": "1.5.0",
            "_model_name": "SliderStyleModel",
            "_view_count": null,
            "_view_module": "@jupyter-widgets/base",
            "_view_module_version": "1.2.0",
            "_view_name": "StyleView",
            "description_width": "",
            "handle_color": null
          }
        },
        "f91af79ae481404c9cdd5458e321ebb9": {
          "model_module": "@jupyter-widgets/base",
          "model_name": "LayoutModel",
          "model_module_version": "1.2.0",
          "state": {
            "_model_module": "@jupyter-widgets/base",
            "_model_module_version": "1.2.0",
            "_model_name": "LayoutModel",
            "_view_count": null,
            "_view_module": "@jupyter-widgets/base",
            "_view_module_version": "1.2.0",
            "_view_name": "LayoutView",
            "align_content": null,
            "align_items": null,
            "align_self": null,
            "border": null,
            "bottom": null,
            "display": null,
            "flex": null,
            "flex_flow": null,
            "grid_area": null,
            "grid_auto_columns": null,
            "grid_auto_flow": null,
            "grid_auto_rows": null,
            "grid_column": null,
            "grid_gap": null,
            "grid_row": null,
            "grid_template_areas": null,
            "grid_template_columns": null,
            "grid_template_rows": null,
            "height": null,
            "justify_content": null,
            "justify_items": null,
            "left": null,
            "margin": null,
            "max_height": null,
            "max_width": null,
            "min_height": null,
            "min_width": null,
            "object_fit": null,
            "object_position": null,
            "order": null,
            "overflow": null,
            "overflow_x": null,
            "overflow_y": null,
            "padding": null,
            "right": null,
            "top": null,
            "visibility": null,
            "width": null
          }
        }
      }
    }
  },
  "cells": [
    {
      "cell_type": "markdown",
      "metadata": {
        "id": "view-in-github",
        "colab_type": "text"
      },
      "source": [
        "<a href=\"https://colab.research.google.com/github/stefanbringuier/randomonium/blob/main/notebooks/ASE_Phonopy_Testing.ipynb\" target=\"_parent\"><img src=\"https://colab.research.google.com/assets/colab-badge.svg\" alt=\"Open In Colab\"/></a>"
      ]
    },
    {
      "cell_type": "markdown",
      "source": [
        "## ASE Calculator interface testing with Phonopy\n",
        "**Stefan Bringuier**\n",
        "\n",
        "[stefanbringuier@gmail.com](mailto:stefanbringuier@gmail.com)"
      ],
      "metadata": {
        "id": "rjwOlNl3cTt_"
      }
    },
    {
      "cell_type": "code",
      "execution_count": 1,
      "metadata": {
        "id": "TP4WLkLoGAhY",
        "colab": {
          "base_uri": "https://localhost:8080/"
        },
        "outputId": "cb7675ce-c623-45c3-e02a-77a412e33bcc"
      },
      "outputs": [
        {
          "output_type": "stream",
          "name": "stdout",
          "text": [
            "Collecting ase\n",
            "  Downloading ase-3.22.1-py3-none-any.whl (2.2 MB)\n",
            "\u001b[2K     \u001b[90m━━━━━━━━━━━━━━━━━━━━━━━━━━━━━━━━━━━━━━━━\u001b[0m \u001b[32m2.2/2.2 MB\u001b[0m \u001b[31m9.0 MB/s\u001b[0m eta \u001b[36m0:00:00\u001b[0m\n",
            "\u001b[?25hRequirement already satisfied: matplotlib>=3.1.0 in /usr/local/lib/python3.10/dist-packages (from ase) (3.7.1)\n",
            "Requirement already satisfied: numpy>=1.15.0 in /usr/local/lib/python3.10/dist-packages (from ase) (1.23.5)\n",
            "Requirement already satisfied: scipy>=1.1.0 in /usr/local/lib/python3.10/dist-packages (from ase) (1.11.4)\n",
            "Requirement already satisfied: contourpy>=1.0.1 in /usr/local/lib/python3.10/dist-packages (from matplotlib>=3.1.0->ase) (1.2.0)\n",
            "Requirement already satisfied: cycler>=0.10 in /usr/local/lib/python3.10/dist-packages (from matplotlib>=3.1.0->ase) (0.12.1)\n",
            "Requirement already satisfied: fonttools>=4.22.0 in /usr/local/lib/python3.10/dist-packages (from matplotlib>=3.1.0->ase) (4.47.0)\n",
            "Requirement already satisfied: kiwisolver>=1.0.1 in /usr/local/lib/python3.10/dist-packages (from matplotlib>=3.1.0->ase) (1.4.5)\n",
            "Requirement already satisfied: packaging>=20.0 in /usr/local/lib/python3.10/dist-packages (from matplotlib>=3.1.0->ase) (23.2)\n",
            "Requirement already satisfied: pillow>=6.2.0 in /usr/local/lib/python3.10/dist-packages (from matplotlib>=3.1.0->ase) (9.4.0)\n",
            "Requirement already satisfied: pyparsing>=2.3.1 in /usr/local/lib/python3.10/dist-packages (from matplotlib>=3.1.0->ase) (3.1.1)\n",
            "Requirement already satisfied: python-dateutil>=2.7 in /usr/local/lib/python3.10/dist-packages (from matplotlib>=3.1.0->ase) (2.8.2)\n",
            "Requirement already satisfied: six>=1.5 in /usr/local/lib/python3.10/dist-packages (from python-dateutil>=2.7->matplotlib>=3.1.0->ase) (1.16.0)\n",
            "Installing collected packages: ase\n",
            "Successfully installed ase-3.22.1\n",
            "Collecting seekpath\n",
            "  Downloading seekpath-2.1.0-py2.py3-none-any.whl (77 kB)\n",
            "\u001b[2K     \u001b[90m━━━━━━━━━━━━━━━━━━━━━━━━━━━━━━━━━━━━━━━━\u001b[0m \u001b[32m77.5/77.5 kB\u001b[0m \u001b[31m881.8 kB/s\u001b[0m eta \u001b[36m0:00:00\u001b[0m\n",
            "\u001b[?25hRequirement already satisfied: numpy>=1.0 in /usr/local/lib/python3.10/dist-packages (from seekpath) (1.23.5)\n",
            "Collecting spglib>=1.14.1 (from seekpath)\n",
            "  Downloading spglib-2.2.0-cp310-cp310-manylinux_2_17_x86_64.whl (803 kB)\n",
            "\u001b[2K     \u001b[90m━━━━━━━━━━━━━━━━━━━━━━━━━━━━━━━━━━━━━━━━\u001b[0m \u001b[32m803.2/803.2 kB\u001b[0m \u001b[31m6.2 MB/s\u001b[0m eta \u001b[36m0:00:00\u001b[0m\n",
            "\u001b[?25hInstalling collected packages: spglib, seekpath\n",
            "Successfully installed seekpath-2.1.0 spglib-2.2.0\n",
            "Collecting phonopy\n",
            "  Downloading phonopy-2.21.0.tar.gz (3.8 MB)\n",
            "\u001b[2K     \u001b[90m━━━━━━━━━━━━━━━━━━━━━━━━━━━━━━━━━━━━━━━━\u001b[0m \u001b[32m3.8/3.8 MB\u001b[0m \u001b[31m14.5 MB/s\u001b[0m eta \u001b[36m0:00:00\u001b[0m\n",
            "\u001b[?25h  Installing build dependencies ... \u001b[?25l\u001b[?25hdone\n",
            "  Getting requirements to build wheel ... \u001b[?25l\u001b[?25hdone\n",
            "  Preparing metadata (pyproject.toml) ... \u001b[?25l\u001b[?25hdone\n",
            "Requirement already satisfied: numpy>=1.17.0 in /usr/local/lib/python3.10/dist-packages (from phonopy) (1.23.5)\n",
            "Requirement already satisfied: PyYAML>=5.3 in /usr/local/lib/python3.10/dist-packages (from phonopy) (6.0.1)\n",
            "Requirement already satisfied: matplotlib>=2.2.2 in /usr/local/lib/python3.10/dist-packages (from phonopy) (3.7.1)\n",
            "Requirement already satisfied: h5py>=3.0 in /usr/local/lib/python3.10/dist-packages (from phonopy) (3.9.0)\n",
            "Requirement already satisfied: spglib>=2.0 in /usr/local/lib/python3.10/dist-packages (from phonopy) (2.2.0)\n",
            "Requirement already satisfied: contourpy>=1.0.1 in /usr/local/lib/python3.10/dist-packages (from matplotlib>=2.2.2->phonopy) (1.2.0)\n",
            "Requirement already satisfied: cycler>=0.10 in /usr/local/lib/python3.10/dist-packages (from matplotlib>=2.2.2->phonopy) (0.12.1)\n",
            "Requirement already satisfied: fonttools>=4.22.0 in /usr/local/lib/python3.10/dist-packages (from matplotlib>=2.2.2->phonopy) (4.47.0)\n",
            "Requirement already satisfied: kiwisolver>=1.0.1 in /usr/local/lib/python3.10/dist-packages (from matplotlib>=2.2.2->phonopy) (1.4.5)\n",
            "Requirement already satisfied: packaging>=20.0 in /usr/local/lib/python3.10/dist-packages (from matplotlib>=2.2.2->phonopy) (23.2)\n",
            "Requirement already satisfied: pillow>=6.2.0 in /usr/local/lib/python3.10/dist-packages (from matplotlib>=2.2.2->phonopy) (9.4.0)\n",
            "Requirement already satisfied: pyparsing>=2.3.1 in /usr/local/lib/python3.10/dist-packages (from matplotlib>=2.2.2->phonopy) (3.1.1)\n",
            "Requirement already satisfied: python-dateutil>=2.7 in /usr/local/lib/python3.10/dist-packages (from matplotlib>=2.2.2->phonopy) (2.8.2)\n",
            "Requirement already satisfied: six>=1.5 in /usr/local/lib/python3.10/dist-packages (from python-dateutil>=2.7->matplotlib>=2.2.2->phonopy) (1.16.0)\n",
            "Building wheels for collected packages: phonopy\n",
            "  Building wheel for phonopy (pyproject.toml) ... \u001b[?25l\u001b[?25hdone\n",
            "  Created wheel for phonopy: filename=phonopy-2.21.0-cp310-cp310-linux_x86_64.whl size=505480 sha256=844f8746ab5f4edeb09246019d5cf05def1d651fc97748079db3e390483dedb6\n",
            "  Stored in directory: /root/.cache/pip/wheels/67/4e/87/dafe2a46f0a7c4a92b09e405e70155bb390a29c0d48545280c\n",
            "Successfully built phonopy\n",
            "Installing collected packages: phonopy\n",
            "Successfully installed phonopy-2.21.0\n"
          ]
        }
      ],
      "source": [
        "! pip install -U ase\n",
        "! pip install -U seekpath\n",
        "! pip install -U phonopy"
      ]
    },
    {
      "cell_type": "code",
      "source": [
        "import matplotlib.pyplot as plt\n",
        "\n",
        "from ase.atoms import Atoms\n",
        "from ase.build import bulk\n",
        "from ase.calculators.emt import EMT\n",
        "from ase.units import kB\n",
        "from ase.optimize import FIRE\n",
        "from ase.constraints import FixAtoms, UnitCellFilter\n",
        "from ase.spacegroup.symmetrize import FixSymmetry, check_symmetry\n",
        "\n",
        "from phonopy import Phonopy\n",
        "from phonopy.structure.atoms import PhonopyAtoms\n",
        "from phonopy.phonon.band_structure import get_band_qpoints_and_path_connections"
      ],
      "metadata": {
        "id": "C39z7SMhvR-r"
      },
      "execution_count": 2,
      "outputs": []
    },
    {
      "cell_type": "code",
      "source": [
        "calculator = EMT()"
      ],
      "metadata": {
        "id": "jq9cBb4nPbOQ"
      },
      "execution_count": 3,
      "outputs": []
    },
    {
      "cell_type": "code",
      "source": [
        "copper =  bulk('Cu', 'fcc', a=3.6)\n",
        "copper.set_calculator(calc=calculator)\n",
        "copper.set_constraint(FixSymmetry(copper))\n",
        "opt_structure = UnitCellFilter(copper)\n",
        "opt = FIRE(opt_structure)\n",
        "opt.run(fmax=1.0e-4)"
      ],
      "metadata": {
        "id": "nA02JumUGI7g",
        "colab": {
          "base_uri": "https://localhost:8080/"
        },
        "outputId": "74ba2c68-dbdc-4cf1-a843-8a6898e2c87c"
      },
      "execution_count": 4,
      "outputs": [
        {
          "output_type": "stream",
          "name": "stdout",
          "text": [
            "      Step     Time          Energy         fmax\n",
            "*Force-consistent energies used in optimization.\n",
            "FIRE:    0 18:55:22       -0.006689*       0.0816\n",
            "FIRE:    1 18:55:22       -0.006860*       0.0583\n",
            "FIRE:    2 18:55:22       -0.007020*       0.0178\n",
            "FIRE:    3 18:55:22       -0.006995*       0.0285\n",
            "FIRE:    4 18:55:22       -0.007001*       0.0264\n",
            "FIRE:    5 18:55:22       -0.007011*       0.0223\n",
            "FIRE:    6 18:55:22       -0.007022*       0.0166\n",
            "FIRE:    7 18:55:22       -0.007032*       0.0097\n",
            "FIRE:    8 18:55:22       -0.007036*       0.0021\n",
            "FIRE:    9 18:55:22       -0.007035*       0.0056\n",
            "FIRE:   10 18:55:23       -0.007035*       0.0055\n",
            "FIRE:   11 18:55:23       -0.007035*       0.0053\n",
            "FIRE:   12 18:55:23       -0.007035*       0.0050\n",
            "FIRE:   13 18:55:23       -0.007035*       0.0046\n",
            "FIRE:   14 18:55:23       -0.007036*       0.0041\n",
            "FIRE:   15 18:55:23       -0.007036*       0.0036\n",
            "FIRE:   16 18:55:23       -0.007036*       0.0030\n",
            "FIRE:   17 18:55:23       -0.007036*       0.0022\n",
            "FIRE:   18 18:55:23       -0.007036*       0.0013\n",
            "FIRE:   19 18:55:23       -0.007036*       0.0003\n",
            "FIRE:   20 18:55:23       -0.007036*       0.0008\n",
            "FIRE:   21 18:55:23       -0.007036*       0.0008\n",
            "FIRE:   22 18:55:23       -0.007036*       0.0008\n",
            "FIRE:   23 18:55:23       -0.007036*       0.0007\n",
            "FIRE:   24 18:55:23       -0.007036*       0.0007\n",
            "FIRE:   25 18:55:23       -0.007036*       0.0007\n",
            "FIRE:   26 18:55:23       -0.007036*       0.0006\n",
            "FIRE:   27 18:55:23       -0.007036*       0.0006\n",
            "FIRE:   28 18:55:23       -0.007036*       0.0005\n",
            "FIRE:   29 18:55:23       -0.007036*       0.0004\n",
            "FIRE:   30 18:55:23       -0.007036*       0.0004\n",
            "FIRE:   31 18:55:23       -0.007036*       0.0002\n",
            "FIRE:   32 18:55:23       -0.007036*       0.0001\n",
            "FIRE:   33 18:55:23       -0.007036*       0.0000\n"
          ]
        },
        {
          "output_type": "execute_result",
          "data": {
            "text/plain": [
              "True"
            ]
          },
          "metadata": {},
          "execution_count": 4
        }
      ]
    },
    {
      "cell_type": "code",
      "source": [
        "structure =  opt_structure.atoms\n",
        "phnpy_struct = PhonopyAtoms(\n",
        "    symbols=structure.get_chemical_symbols(),\n",
        "    positions=structure.get_positions(),\n",
        "    cell=structure.get_cell(),\n",
        "    masses=structure.get_masses(),\n",
        "    )"
      ],
      "metadata": {
        "id": "zTlhFIoSGlm5"
      },
      "execution_count": 5,
      "outputs": []
    },
    {
      "cell_type": "code",
      "source": [
        "def calculate_plot_phonons(d=0.03,n=6):\n",
        "    phonons = Phonopy(\n",
        "        phnpy_struct,\n",
        "        supercell_matrix=[[n, 0, 0],\n",
        "                          [0, n, 0],\n",
        "                          [0, 0, n]],\n",
        "    )\n",
        "    phonons.generate_displacements(distance=d)\n",
        "    sets_of_forces = []\n",
        "    supercells = phonons.get_supercells_with_displacements()\n",
        "\n",
        "    for d in supercells:\n",
        "        # Convert back to ASE\n",
        "        d_ase = Atoms(symbols=d.get_chemical_symbols(),\n",
        "                      positions=d.get_positions(),\n",
        "                      cell=d.get_cell(),\n",
        "                      pbc=True)\n",
        "        d_ase.set_calculator(calculator)\n",
        "        forces = d_ase.get_forces()\n",
        "        sets_of_forces.append(forces)\n",
        "\n",
        "    phonons.forces = sets_of_forces\n",
        "    phonons.produce_force_constants()\n",
        "    phonons.auto_band_structure(npoints=100, plot=True, write_yaml=True)"
      ],
      "metadata": {
        "id": "m2ih9SgUGtgL"
      },
      "execution_count": 6,
      "outputs": []
    },
    {
      "cell_type": "markdown",
      "source": [
        "## Converged Band Structure, displacement=0.03 Ang, supercell = (6,6,6)"
      ],
      "metadata": {
        "id": "9X3H0RMIaQZe"
      }
    },
    {
      "cell_type": "code",
      "source": [
        "calculate_plot_phonons()"
      ],
      "metadata": {
        "colab": {
          "base_uri": "https://localhost:8080/",
          "height": 411
        },
        "id": "vtaEw1tYaJud",
        "outputId": "38ae210a-82fd-44ad-935f-759a948926cf"
      },
      "execution_count": 7,
      "outputs": [
        {
          "output_type": "display_data",
          "data": {
            "text/plain": [
              "<Figure size 640x480 with 4 Axes>"
            ],
            "image/png": "[encoded data removed]"
          },
          "metadata": {}
        }
      ]
    },
    {
      "cell_type": "markdown",
      "source": [
        "## Displacement, Supercell Scan"
      ],
      "metadata": {
        "id": "BkaRiMpiaUHx"
      }
    },
    {
      "cell_type": "code",
      "source": [
        "import ipywidgets as widgets\n",
        "from IPython.display import display"
      ],
      "metadata": {
        "id": "gB4o1LCfafi2"
      },
      "execution_count": 10,
      "outputs": []
    },
    {
      "cell_type": "code",
      "source": [
        "# Create a slider widget for displacement\n",
        "displacement_slider = widgets.FloatSlider(\n",
        "    value=0.03,\n",
        "    min=0.01,\n",
        "    max=0.1,\n",
        "    step=0.01,\n",
        "    description='Displacement:',\n",
        "    continuous_update=False\n",
        ")\n",
        "supercell_slider = widgets.IntSlider(\n",
        "    value=6,\n",
        "    min=2,\n",
        "    max=10,\n",
        "    step=1,\n",
        "    description='n x n x n:',\n",
        "    continuous_update=False\n",
        ")\n",
        "# Display the widget and output\n",
        "widgets.interactive(calculate_plot_phonons,\n",
        "                    d=displacement_slider,\n",
        "                    n=supercell_slider)"
      ],
      "metadata": {
        "colab": {
          "base_uri": "https://localhost:8080/",
          "height": 475,
          "referenced_widgets": [
            "46a08114a65743889109bf40827df962",
            "3123163e19154a98ad9a80b7cc5f096c",
            "c9e4e5e341684bf984c16d7c19f649c2",
            "931cbba3281a46e99ca1fa716348783f",
            "bf5300ed02b64cc7b291bf4435c5b4c4",
            "9d4e8b62b8a14e6b82e8d7eb67d42fe8",
            "effcf99eba3340129417e60a86ee5d9c",
            "15c6354c8a1e4c15a2eddf9c026c2930",
            "26b481c026d24b5e9619be62ba2295e9",
            "f91af79ae481404c9cdd5458e321ebb9"
          ]
        },
        "id": "7s8I-ZAjZFlB",
        "outputId": "6a115e4b-4e3a-4ea9-903b-0114549da0a1"
      },
      "execution_count": 11,
      "outputs": [
        {
          "output_type": "display_data",
          "data": {
            "text/plain": [
              "interactive(children=(FloatSlider(value=0.03, continuous_update=False, description='Displacement:', max=0.1, m…"
            ],
            "application/vnd.jupyter.widget-view+json": {
              "version_major": 2,
              "version_minor": 0,
              "model_id": "46a08114a65743889109bf40827df962"
            }
          },
          "metadata": {}
        },
        {
          "output_type": "display_data",
          "data": {
            "text/plain": [
              "<Figure size 640x480 with 4 Axes>"
            ],
            "image/png": "[encoded data removed]"
          },
          "metadata": {}
        }
      ]
    },
    {
      "cell_type": "code",
      "source": [],
      "metadata": {
        "id": "uxGQEa8BCgYL"
      },
      "execution_count": null,
      "outputs": []
    }
  ]
}