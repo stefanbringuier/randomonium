{
  "nbformat": 4,
  "nbformat_minor": 0,
  "metadata": {
    "colab": {
      "provenance": [],
      "gpuType": "T4",
      "mount_file_id": "1YuQcDYgzAdbPNZaRqdS_PZy1trnM8zpP",
      "authorship_tag": "ABX9TyO18u97QVOJpX79OtUc2NOW",
      "include_colab_link": true
    },
    "kernelspec": {
      "name": "python3",
      "display_name": "Python 3"
    },
    "language_info": {
      "name": "python"
    },
    "accelerator": "GPU",
    "widgets": {
      "application/vnd.jupyter.widget-state+json": {
        "5c8bab68906a40cb9fca4f680a2b80dc": {
          "model_module": "@jupyter-widgets/controls",
          "model_name": "VBoxModel",
          "model_module_version": "1.5.0",
          "state": {
            "_dom_classes": [
              "widget-interact"
            ],
            "_model_module": "@jupyter-widgets/controls",
            "_model_module_version": "1.5.0",
            "_model_name": "VBoxModel",
            "_view_count": null,
            "_view_module": "@jupyter-widgets/controls",
            "_view_module_version": "1.5.0",
            "_view_name": "VBoxView",
            "box_style": "",
            "children": [
              "IPY_MODEL_ebd6b76d26814aeb8d0da6e6afe1abe0",
              "IPY_MODEL_f76b1586244b4914a44ed0d60a2a80ef",
              "IPY_MODEL_9063544093be4d13967b2d6ea5e408fc"
            ],
            "layout": "IPY_MODEL_275d0d766db84d1bbeea76816628cbda"
          }
        },
        "ebd6b76d26814aeb8d0da6e6afe1abe0": {
          "model_module": "@jupyter-widgets/controls",
          "model_name": "FloatSliderModel",
          "model_module_version": "1.5.0",
          "state": {
            "_dom_classes": [],
            "_model_module": "@jupyter-widgets/controls",
            "_model_module_version": "1.5.0",
            "_model_name": "FloatSliderModel",
            "_view_count": null,
            "_view_module": "@jupyter-widgets/controls",
            "_view_module_version": "1.5.0",
            "_view_name": "FloatSliderView",
            "continuous_update": false,
            "description": "Displacement:",
            "description_tooltip": null,
            "disabled": false,
            "layout": "IPY_MODEL_a4454867810e492899f69d6194c7b172",
            "max": 1,
            "min": 0.01,
            "orientation": "horizontal",
            "readout": true,
            "readout_format": ".2f",
            "step": 0.25,
            "style": "IPY_MODEL_4e18d3aa14e14351900ab2dc8e7e8ec2",
            "value": 0.1
          }
        },
        "f76b1586244b4914a44ed0d60a2a80ef": {
          "model_module": "@jupyter-widgets/controls",
          "model_name": "IntSliderModel",
          "model_module_version": "1.5.0",
          "state": {
            "_dom_classes": [],
            "_model_module": "@jupyter-widgets/controls",
            "_model_module_version": "1.5.0",
            "_model_name": "IntSliderModel",
            "_view_count": null,
            "_view_module": "@jupyter-widgets/controls",
            "_view_module_version": "1.5.0",
            "_view_name": "IntSliderView",
            "continuous_update": false,
            "description": "n x n x n:",
            "description_tooltip": null,
            "disabled": false,
            "layout": "IPY_MODEL_e2751a47f6814b86a80a4c1d67104ed9",
            "max": 10,
            "min": 2,
            "orientation": "horizontal",
            "readout": true,
            "readout_format": "d",
            "step": 1,
            "style": "IPY_MODEL_48f174d4ad6a48ff8bf40034bb2a0113",
            "value": 6
          }
        },
        "9063544093be4d13967b2d6ea5e408fc": {
          "model_module": "@jupyter-widgets/output",
          "model_name": "OutputModel",
          "model_module_version": "1.0.0",
          "state": {
            "_dom_classes": [],
            "_model_module": "@jupyter-widgets/output",
            "_model_module_version": "1.0.0",
            "_model_name": "OutputModel",
            "_view_count": null,
            "_view_module": "@jupyter-widgets/output",
            "_view_module_version": "1.0.0",
            "_view_name": "OutputView",
            "layout": "IPY_MODEL_608efc9dee244d70bdf9d1c11b4225fc",
            "msg_id": "",
            "outputs": []
          }
        },
        "275d0d766db84d1bbeea76816628cbda": {
          "model_module": "@jupyter-widgets/base",
          "model_name": "LayoutModel",
          "model_module_version": "1.2.0",
          "state": {
            "_model_module": "@jupyter-widgets/base",
            "_model_module_version": "1.2.0",
            "_model_name": "LayoutModel",
            "_view_count": null,
            "_view_module": "@jupyter-widgets/base",
            "_view_module_version": "1.2.0",
            "_view_name": "LayoutView",
            "align_content": null,
            "align_items": null,
            "align_self": null,
            "border": null,
            "bottom": null,
            "display": null,
            "flex": null,
            "flex_flow": null,
            "grid_area": null,
            "grid_auto_columns": null,
            "grid_auto_flow": null,
            "grid_auto_rows": null,
            "grid_column": null,
            "grid_gap": null,
            "grid_row": null,
            "grid_template_areas": null,
            "grid_template_columns": null,
            "grid_template_rows": null,
            "height": null,
            "justify_content": null,
            "justify_items": null,
            "left": null,
            "margin": null,
            "max_height": null,
            "max_width": null,
            "min_height": null,
            "min_width": null,
            "object_fit": null,
            "object_position": null,
            "order": null,
            "overflow": null,
            "overflow_x": null,
            "overflow_y": null,
            "padding": null,
            "right": null,
            "top": null,
            "visibility": null,
            "width": null
          }
        },
        "a4454867810e492899f69d6194c7b172": {
          "model_module": "@jupyter-widgets/base",
          "model_name": "LayoutModel",
          "model_module_version": "1.2.0",
          "state": {
            "_model_module": "@jupyter-widgets/base",
            "_model_module_version": "1.2.0",
            "_model_name": "LayoutModel",
            "_view_count": null,
            "_view_module": "@jupyter-widgets/base",
            "_view_module_version": "1.2.0",
            "_view_name": "LayoutView",
            "align_content": null,
            "align_items": null,
            "align_self": null,
            "border": null,
            "bottom": null,
            "display": null,
            "flex": null,
            "flex_flow": null,
            "grid_area": null,
            "grid_auto_columns": null,
            "grid_auto_flow": null,
            "grid_auto_rows": null,
            "grid_column": null,
            "grid_gap": null,
            "grid_row": null,
            "grid_template_areas": null,
            "grid_template_columns": null,
            "grid_template_rows": null,
            "height": null,
            "justify_content": null,
            "justify_items": null,
            "left": null,
            "margin": null,
            "max_height": null,
            "max_width": null,
            "min_height": null,
            "min_width": null,
            "object_fit": null,
            "object_position": null,
            "order": null,
            "overflow": null,
            "overflow_x": null,
            "overflow_y": null,
            "padding": null,
            "right": null,
            "top": null,
            "visibility": null,
            "width": null
          }
        },
        "4e18d3aa14e14351900ab2dc8e7e8ec2": {
          "model_module": "@jupyter-widgets/controls",
          "model_name": "SliderStyleModel",
          "model_module_version": "1.5.0",
          "state": {
            "_model_module": "@jupyter-widgets/controls",
            "_model_module_version": "1.5.0",
            "_model_name": "SliderStyleModel",
            "_view_count": null,
            "_view_module": "@jupyter-widgets/base",
            "_view_module_version": "1.2.0",
            "_view_name": "StyleView",
            "description_width": "",
            "handle_color": null
          }
        },
        "e2751a47f6814b86a80a4c1d67104ed9": {
          "model_module": "@jupyter-widgets/base",
          "model_name": "LayoutModel",
          "model_module_version": "1.2.0",
          "state": {
            "_model_module": "@jupyter-widgets/base",
            "_model_module_version": "1.2.0",
            "_model_name": "LayoutModel",
            "_view_count": null,
            "_view_module": "@jupyter-widgets/base",
            "_view_module_version": "1.2.0",
            "_view_name": "LayoutView",
            "align_content": null,
            "align_items": null,
            "align_self": null,
            "border": null,
            "bottom": null,
            "display": null,
            "flex": null,
            "flex_flow": null,
            "grid_area": null,
            "grid_auto_columns": null,
            "grid_auto_flow": null,
            "grid_auto_rows": null,
            "grid_column": null,
            "grid_gap": null,
            "grid_row": null,
            "grid_template_areas": null,
            "grid_template_columns": null,
            "grid_template_rows": null,
            "height": null,
            "justify_content": null,
            "justify_items": null,
            "left": null,
            "margin": null,
            "max_height": null,
            "max_width": null,
            "min_height": null,
            "min_width": null,
            "object_fit": null,
            "object_position": null,
            "order": null,
            "overflow": null,
            "overflow_x": null,
            "overflow_y": null,
            "padding": null,
            "right": null,
            "top": null,
            "visibility": null,
            "width": null
          }
        },
        "48f174d4ad6a48ff8bf40034bb2a0113": {
          "model_module": "@jupyter-widgets/controls",
          "model_name": "SliderStyleModel",
          "model_module_version": "1.5.0",
          "state": {
            "_model_module": "@jupyter-widgets/controls",
            "_model_module_version": "1.5.0",
            "_model_name": "SliderStyleModel",
            "_view_count": null,
            "_view_module": "@jupyter-widgets/base",
            "_view_module_version": "1.2.0",
            "_view_name": "StyleView",
            "description_width": "",
            "handle_color": null
          }
        },
        "608efc9dee244d70bdf9d1c11b4225fc": {
          "model_module": "@jupyter-widgets/base",
          "model_name": "LayoutModel",
          "model_module_version": "1.2.0",
          "state": {
            "_model_module": "@jupyter-widgets/base",
            "_model_module_version": "1.2.0",
            "_model_name": "LayoutModel",
            "_view_count": null,
            "_view_module": "@jupyter-widgets/base",
            "_view_module_version": "1.2.0",
            "_view_name": "LayoutView",
            "align_content": null,
            "align_items": null,
            "align_self": null,
            "border": null,
            "bottom": null,
            "display": null,
            "flex": null,
            "flex_flow": null,
            "grid_area": null,
            "grid_auto_columns": null,
            "grid_auto_flow": null,
            "grid_auto_rows": null,
            "grid_column": null,
            "grid_gap": null,
            "grid_row": null,
            "grid_template_areas": null,
            "grid_template_columns": null,
            "grid_template_rows": null,
            "height": null,
            "justify_content": null,
            "justify_items": null,
            "left": null,
            "margin": null,
            "max_height": null,
            "max_width": null,
            "min_height": null,
            "min_width": null,
            "object_fit": null,
            "object_position": null,
            "order": null,
            "overflow": null,
            "overflow_x": null,
            "overflow_y": null,
            "padding": null,
            "right": null,
            "top": null,
            "visibility": null,
            "width": null
          }
        }
      }
    }
  },
  "cells": [
    {
      "cell_type": "markdown",
      "metadata": {
        "id": "view-in-github",
        "colab_type": "text"
      },
      "source": [
        "<a href=\"https://colab.research.google.com/github/stefanbringuier/randomonium/blob/main/notebooks/ASE_Phonopy_Testing.ipynb\" target=\"_parent\"><img src=\"https://colab.research.google.com/assets/colab-badge.svg\" alt=\"Open In Colab\"/></a>"
      ]
    },
    {
      "cell_type": "markdown",
      "source": [
        "## ASE Calculator interface testing with Phonopy\n",
        "**Stefan Bringuier**\n",
        "\n",
        "[stefanbringuier@gmail.com](mailto:stefanbringuier@gmail.com)"
      ],
      "metadata": {
        "id": "rjwOlNl3cTt_"
      }
    },
    {
      "cell_type": "code",
      "execution_count": null,
      "metadata": {
        "id": "TP4WLkLoGAhY"
      },
      "outputs": [],
      "source": [
        "! pip install -U ase\n",
        "! pip install -U seekpath\n",
        "! pip install -U phonopy"
      ]
    },
    {
      "cell_type": "code",
      "source": [
        "import matplotlib.pyplot as plt\n",
        "\n",
        "from ase.atoms import Atoms\n",
        "from ase.build import bulk\n",
        "from ase.calculators.emt import EMT\n",
        "from ase.units import kB\n",
        "from ase.optimize import FIRE\n",
        "from ase.constraints import FixAtoms, UnitCellFilter\n",
        "from ase.spacegroup.symmetrize import FixSymmetry, check_symmetry\n",
        "\n",
        "from phonopy import Phonopy\n",
        "from phonopy.structure.atoms import PhonopyAtoms\n",
        "from phonopy.phonon.band_structure import get_band_qpoints_and_path_connections"
      ],
      "metadata": {
        "id": "C39z7SMhvR-r"
      },
      "execution_count": null,
      "outputs": []
    },
    {
      "cell_type": "code",
      "source": [
        "calculator = EMT()"
      ],
      "metadata": {
        "id": "jq9cBb4nPbOQ"
      },
      "execution_count": null,
      "outputs": []
    },
    {
      "cell_type": "code",
      "source": [
        "copper =  bulk('Cu', 'fcc', a=3.6)\n",
        "copper.set_calculator(calc=calculator)\n",
        "copper.set_constraint(FixSymmetry(copper))\n",
        "opt_structure = UnitCellFilter(copper)\n",
        "opt = FIRE(opt_structure)\n",
        "opt.run(fmax=1.0e-4)"
      ],
      "metadata": {
        "id": "nA02JumUGI7g"
      },
      "execution_count": null,
      "outputs": []
    },
    {
      "cell_type": "code",
      "source": [
        "structure =  opt_structure.atoms\n",
        "phnpy_struct = PhonopyAtoms(\n",
        "    symbols=structure.get_chemical_symbols(),\n",
        "    positions=structure.get_positions(),\n",
        "    cell=structure.get_cell(),\n",
        "    masses=structure.get_masses(),\n",
        "    )"
      ],
      "metadata": {
        "id": "zTlhFIoSGlm5"
      },
      "execution_count": null,
      "outputs": []
    },
    {
      "cell_type": "code",
      "source": [
        "def calculate_plot_phonons(d=0.9,n=6):\n",
        "    phonons = Phonopy(\n",
        "        phnpy_struct,\n",
        "        supercell_matrix=[[n, 0, 0],\n",
        "                          [0, n, 0],\n",
        "                          [0, 0, n]],\n",
        "    )\n",
        "    phonons.generate_displacements(distance=d)\n",
        "    sets_of_forces = []\n",
        "    supercells = phonons.get_supercells_with_displacements()\n",
        "\n",
        "    for d in supercells:\n",
        "        # Convert back to ASE\n",
        "        d_ase = Atoms(symbols=d.get_chemical_symbols(),\n",
        "                      positions=d.get_positions(),\n",
        "                      cell=d.get_cell(),\n",
        "                      pbc=True)\n",
        "        d_ase.set_calculator(calculator)\n",
        "        forces = d_ase.get_forces()\n",
        "        sets_of_forces.append(forces)\n",
        "\n",
        "    phonons.forces = sets_of_forces\n",
        "    phonons.produce_force_constants()\n",
        "    phonons.auto_band_structure(npoints=100, plot=True, write_yaml=True)"
      ],
      "metadata": {
        "id": "m2ih9SgUGtgL"
      },
      "execution_count": null,
      "outputs": []
    },
    {
      "cell_type": "markdown",
      "source": [
        "## Converged Band Structure, displacement=0.9 Ang, supercell = (6,6,6)"
      ],
      "metadata": {
        "id": "9X3H0RMIaQZe"
      }
    },
    {
      "cell_type": "code",
      "source": [
        "calculate_plot_phonons()"
      ],
      "metadata": {
        "colab": {
          "base_uri": "https://localhost:8080/",
          "height": 411
        },
        "id": "vtaEw1tYaJud",
        "outputId": "5be4b87a-12bf-4f97-b5d9-b0f29860182f"
      },
      "execution_count": null,
      "outputs": [
        {
          "output_type": "display_data",
          "data": {
            "text/plain": [
              "<Figure size 640x480 with 4 Axes>"
            ],
            "image/png": "[encoded data removed]"
          },
          "metadata": {}
        }
      ]
    },
    {
      "cell_type": "markdown",
      "source": [
        "## Displacement, Supercell Scan"
      ],
      "metadata": {
        "id": "BkaRiMpiaUHx"
      }
    },
    {
      "cell_type": "code",
      "source": [
        "import ipywidgets as widgets\n",
        "from IPython.display import display"
      ],
      "metadata": {
        "id": "gB4o1LCfafi2"
      },
      "execution_count": null,
      "outputs": []
    },
    {
      "cell_type": "code",
      "source": [
        "# Create a slider widget for displacement\n",
        "displacement_slider = widgets.FloatSlider(\n",
        "    value=0.1,\n",
        "    min=0.01,\n",
        "    max=1.0,\n",
        "    step=0.25,\n",
        "    description='Displacement:',\n",
        "    continuous_update=False\n",
        ")\n",
        "supercell_slider = widgets.IntSlider(\n",
        "    value=6,\n",
        "    min=2,\n",
        "    max=10,\n",
        "    step=1,\n",
        "    description='n x n x n:',\n",
        "    continuous_update=False\n",
        ")\n",
        "# Display the widget and output\n",
        "widgets.interactive(calculate_plot_phonons,\n",
        "                    d=displacement_slider,\n",
        "                    n=supercell_slider)"
      ],
      "metadata": {
        "colab": {
          "base_uri": "https://localhost:8080/",
          "height": 492,
          "referenced_widgets": [
            "5c8bab68906a40cb9fca4f680a2b80dc",
            "ebd6b76d26814aeb8d0da6e6afe1abe0",
            "f76b1586244b4914a44ed0d60a2a80ef",
            "9063544093be4d13967b2d6ea5e408fc",
            "275d0d766db84d1bbeea76816628cbda",
            "a4454867810e492899f69d6194c7b172",
            "4e18d3aa14e14351900ab2dc8e7e8ec2",
            "e2751a47f6814b86a80a4c1d67104ed9",
            "48f174d4ad6a48ff8bf40034bb2a0113",
            "608efc9dee244d70bdf9d1c11b4225fc"
          ]
        },
        "id": "7s8I-ZAjZFlB",
        "outputId": "9beef83f-4528-433e-a0f1-5904e6b12b70"
      },
      "execution_count": null,
      "outputs": [
        {
          "output_type": "display_data",
          "data": {
            "text/plain": [
              "interactive(children=(FloatSlider(value=0.1, continuous_update=False, description='Displacement:', max=1.0, mi…"
            ],
            "application/vnd.jupyter.widget-view+json": {
              "version_major": 2,
              "version_minor": 0,
              "model_id": "5c8bab68906a40cb9fca4f680a2b80dc"
            }
          },
          "metadata": {}
        },
        {
          "output_type": "display_data",
          "data": {
            "text/plain": [
              "<Figure size 640x480 with 4 Axes>"
            ],
            "image/png": "[encoded data removed]"
          },
          "metadata": {}
        }
      ]
    }
  ]
}