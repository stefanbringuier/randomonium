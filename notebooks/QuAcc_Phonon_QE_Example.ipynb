{
  "nbformat": 4,
  "nbformat_minor": 0,
  "metadata": {
    "colab": {
      "provenance": [],
      "authorship_tag": "ABX9TyOz6rP7aRPkM+t4L07OIRi5",
      "include_colab_link": true
    },
    "kernelspec": {
      "name": "python3",
      "display_name": "Python 3"
    },
    "language_info": {
      "name": "python"
    }
  },
  "cells": [
    {
      "cell_type": "markdown",
      "metadata": {
        "id": "view-in-github",
        "colab_type": "text"
      },
      "source": [
        "<a href=\"https://colab.research.google.com/github/stefanbringuier/randomonium/blob/main/notebooks/QuAcc_Phonon_QE_Example.ipynb\" target=\"_parent\"><img src=\"https://colab.research.google.com/assets/colab-badge.svg\" alt=\"Open In Colab\"/></a>"
      ]
    },
    {
      "cell_type": "markdown",
      "source": [
        "**Prepared by [Stefan Bringuier](https://stefanbringuier.info)**\n",
        "\n",
        "**Caution:** This is just for demo purposes."
      ],
      "metadata": {
        "id": "Ntb52ls7iruC"
      }
    },
    {
      "cell_type": "code",
      "source": [
        "%%capture\n",
        "!pip install -q condacolab"
      ],
      "metadata": {
        "id": "VGWHSClOdRVm"
      },
      "execution_count": 1,
      "outputs": []
    },
    {
      "cell_type": "code",
      "source": [
        "%%capture\n",
        "import condacolab\n",
        "condacolab.install()"
      ],
      "metadata": {
        "id": "Y1bDaJyRdS2-"
      },
      "execution_count": 2,
      "outputs": []
    },
    {
      "cell_type": "code",
      "execution_count": 3,
      "metadata": {
        "id": "-6tsfXetc0Ce"
      },
      "outputs": [],
      "source": [
        "%%capture\n",
        "# Install development version of ASE\n",
        "! pip install --force-reinstall --no-deps https://gitlab.com/ase/ase/-/archive/master/ase-master.zip\n",
        "! pip install quacc"
      ]
    },
    {
      "cell_type": "code",
      "source": [
        "%%capture\n",
        "! conda install -c conda-forge qe"
      ],
      "metadata": {
        "id": "_xISG4wGdU7f"
      },
      "execution_count": 4,
      "outputs": []
    },
    {
      "cell_type": "code",
      "source": [
        "%%capture\n",
        "! pip install quacc[dask]"
      ],
      "metadata": {
        "id": "wT_TNieCjg1L"
      },
      "execution_count": 5,
      "outputs": []
    },
    {
      "cell_type": "code",
      "source": [
        "%%capture\n",
        "! wget \"https://archive.materialscloud.org/record/file?filename=SSSP_1.3.0_PBE_efficiency.tar.gz&record_id=1732\" -O SSSP_1.3.0_PBE_efficiency.tar.gz\n",
        "! mkdir -p pseudopotentials\n",
        "! tar -xzvf /content/SSSP_1.3.0_PBE_efficiency.tar.gz -C pseudopotentials"
      ],
      "metadata": {
        "id": "sMOZUC0VeiZZ"
      },
      "execution_count": 6,
      "outputs": []
    },
    {
      "cell_type": "code",
      "source": [
        "from quacc import SETTINGS\n",
        "\n",
        "SETTINGS.ESPRESSO_PSEUDO = \"/content/pseudopotentials\"\n",
        "SETTINGS.ESPRESSO_BIN_DIR = \"/usr/local/bin\""
      ],
      "metadata": {
        "id": "iZKu-En8zXou"
      },
      "execution_count": 7,
      "outputs": []
    },
    {
      "cell_type": "code",
      "source": [
        "from ase.build import bulk\n",
        "from quacc.recipes.espresso.core import relax_job\n",
        "from quacc.recipes.espresso.phonons import phonon_job\n",
        "from quacc.recipes.espresso.phonons import grid_phonon_flow"
      ],
      "metadata": {
        "id": "SxvogHn7AUTB"
      },
      "execution_count": 10,
      "outputs": []
    },
    {
      "cell_type": "code",
      "source": [
        "atoms = bulk(\"Cu\")\n",
        "\n",
        "job_1 = relax_job(atoms,\n",
        "                occupations='smearing',\n",
        "                smearing='gaussian',\n",
        "                degauss=0.02,\n",
        "                kpts=(6,6,6))\n",
        "job_1.compute()"
      ],
      "metadata": {
        "id": "5FHPXY0xj3Rz",
        "colab": {
          "base_uri": "https://localhost:8080/"
        },
        "outputId": "a080f75b-4437-4bd6-e64b-977eaa647249"
      },
      "execution_count": 12,
      "outputs": [
        {
          "output_type": "execute_result",
          "data": {
            "text/plain": [
              "{'atoms': Atoms(symbols='Cu', pbc=True, cell=[[0.0, 1.8050006441977142, 1.8050006441977142], [1.8050006441977142, 0.0, 1.8050006441977142], [1.8050006441977142, 1.8050006441977142, 0.0]], initial_magmoms=...),\n",
              " 'atoms_info': {'_id': '2b07562e721a386fbaad817f20375192'},\n",
              " 'builder_meta': {'build_date': datetime.datetime(2024, 2, 7, 19, 19, 1, 253500),\n",
              "  'emmet_version': '0.77.1',\n",
              "  'pymatgen_version': '2024.1.27'},\n",
              " 'chemsys': 'Cu',\n",
              " 'composition': Composition('Cu1'),\n",
              " 'composition_reduced': Composition('Cu1'),\n",
              " 'density': 8.971710194693667,\n",
              " 'density_atomic': 11.761482842878042,\n",
              " 'dir_name': '/content/quacc-2024-02-07-19-18-32-741474-26060',\n",
              " 'elements': [Element Cu],\n",
              " 'formula_anonymous': 'A',\n",
              " 'formula_pretty': 'Cu',\n",
              " 'input_atoms': {'atoms': Atoms(symbols='Cu', pbc=True, cell=[[0.0, 1.805, 1.805], [1.805, 0.0, 1.805], [1.805, 1.805, 0.0]], calculator=Espresso(...)),\n",
              "  'atoms_info': {},\n",
              "  'builder_meta': {'build_date': datetime.datetime(2024, 2, 7, 19, 19, 1, 240606),\n",
              "   'emmet_version': '0.77.1',\n",
              "   'pymatgen_version': '2024.1.27'},\n",
              "  'chemsys': 'Cu',\n",
              "  'composition': Composition('Cu1'),\n",
              "  'composition_reduced': Composition('Cu1'),\n",
              "  'density': 8.971719800606017,\n",
              "  'density_atomic': 11.761470249999999,\n",
              "  'elements': [Element Cu],\n",
              "  'formula_anonymous': 'A',\n",
              "  'formula_pretty': 'Cu',\n",
              "  'nelements': 1,\n",
              "  'nsites': 1,\n",
              "  'symmetry': {'crystal_system': <CrystalSystem.cubic: 'Cubic'>,\n",
              "   'number': 225,\n",
              "   'point_group': 'm-3m',\n",
              "   'symbol': 'Fm-3m',\n",
              "   'symprec': 0.1,\n",
              "   'version': '2.3.0'},\n",
              "  'volume': 11.761470249999999},\n",
              " 'name': 'pw.x Relax',\n",
              " 'nelements': 1,\n",
              " 'nid': 'dc64836c3b3e',\n",
              " 'nsites': 1,\n",
              " 'parameters': {'degauss': 0.02,\n",
              "  'input_data': {'control': {'calculation': 'relax'}, 'system': {'ecutwfc': 90.0, 'ecutrho': 720.0, 'occupations': 'smearing', 'degauss': 0.02, 'smearing': 'gaussian'}, 'electrons': {}, 'ions': {}, 'cell': {}},\n",
              "  'kpts': (6, 6, 6),\n",
              "  'occupations': 'smearing',\n",
              "  'pseudopotentials': {'Cu': 'Cu.paw.z_11.ld1.psl.v1.0.0-low.upf'},\n",
              "  'smearing': 'gaussian'},\n",
              " 'quacc_version': '0.6.4',\n",
              " 'results': {'eigenvalues': array([[[ 3.3026,  9.716 ,  9.716 ,  9.716 , 10.5524, 10.5524, 35.682 ,\n",
              "           38.1076, 38.1076, 38.1076],\n",
              "          [ 4.2936,  9.5374,  9.8568,  9.8568, 10.5263, 10.5263, 29.4329,\n",
              "           36.0308, 36.3472, 36.3472],\n",
              "          [ 6.6865,  9.6941,  9.7974,  9.7974, 10.8563, 10.8563, 21.3577,\n",
              "           34.7956, 35.1247, 35.1247],\n",
              "          [ 7.6228,  9.6819,  9.6819, 11.13  , 11.13  , 11.6796, 16.5057,\n",
              "           34.0856, 34.8724, 34.8724],\n",
              "          [ 4.6166,  9.3464, 10.031 , 10.031 , 10.2398, 10.6898, 32.5489,\n",
              "           32.5489, 33.0318, 34.7086],\n",
              "          [ 6.5851,  9.0862,  9.7668, 10.161 , 10.8813, 10.9493, 24.5507,\n",
              "           30.6263, 31.6699, 33.5003],\n",
              "          [ 8.0518,  9.301 ,  9.7869, 10.0109, 11.1498, 13.2037, 17.7609,\n",
              "           28.5355, 30.9049, 33.1856],\n",
              "          [ 7.8712,  9.4725,  9.5439, 10.0023, 10.7804, 12.3894, 19.7459,\n",
              "           26.9995, 33.5228, 34.5082],\n",
              "          [ 5.8159,  9.2855,  9.8255, 10.1463, 10.2513, 11.0328, 26.9932,\n",
              "           27.7048, 37.615 , 38.0624],\n",
              "          [ 7.3999,  8.6378, 10.6406, 10.7963, 10.7963, 10.9693, 26.42  ,\n",
              "           27.7394, 27.7394, 30.9675],\n",
              "          [ 8.1186,  8.5556, 10.2662, 10.744 , 11.1972, 13.9379, 21.7039,\n",
              "           22.6229, 27.2603, 31.8144],\n",
              "          [ 8.6702,  8.8368,  9.5772, 10.4797, 10.929 , 15.9819, 18.6623,\n",
              "           21.2408, 29.41  , 32.6631],\n",
              "          [ 7.8278,  8.2981, 11.1114, 11.2753, 11.2753, 14.193 , 19.8652,\n",
              "           25.8518, 25.8518, 30.3491],\n",
              "          [ 8.1577,  8.9086,  9.4304, 10.5975, 10.7955, 12.6671, 23.0113,\n",
              "           24.0349, 27.5171, 37.544 ],\n",
              "          [ 8.7912,  8.8237,  9.3972, 10.4064, 11.0977, 16.2907, 17.5349,\n",
              "           24.5023, 24.7561, 37.882 ],\n",
              "          [ 8.3475,  8.6889,  9.9101, 10.703 , 11.2759, 16.7554, 20.4098,\n",
              "           21.4327, 22.7667, 36.4987]]]),\n",
              "  'energy': -2899.282936706546,\n",
              "  'fermi_level': 12.7415,\n",
              "  'forces': array([[0., 0., 0.]]),\n",
              "  'free_energy': -2899.282936706546,\n",
              "  'ibz_kpoints': array([[ 0.00000000e+00,  0.00000000e+00,  0.00000000e+00],\n",
              "         [ 6.92154962e-18,  6.92154962e-18,  1.66666624e-01],\n",
              "         [ 3.95802733e-18,  3.95802733e-18,  3.33333389e-01],\n",
              "         [-1.43251665e-17, -1.43251665e-17, -5.00000013e-01],\n",
              "         [ 0.00000000e+00,  1.66666695e-01,  1.66666695e-01],\n",
              "         [ 6.92154962e-18,  1.66666695e-01,  3.33333319e-01],\n",
              "         [ 1.40927804e-17,  1.66666624e-01, -5.00000013e-01],\n",
              "         [-1.43251665e-17,  1.66666695e-01, -3.33333319e-01],\n",
              "         [-3.95802733e-18,  1.66666695e-01, -1.66666695e-01],\n",
              "         [ 0.00000000e+00,  3.33333319e-01,  3.33333319e-01],\n",
              "         [-1.82831938e-17,  3.33333389e-01, -5.00000013e-01],\n",
              "         [ 1.40927804e-17,  3.33333319e-01, -3.33333319e-01],\n",
              "         [ 0.00000000e+00, -5.00000013e-01, -5.00000013e-01],\n",
              "         [ 1.66666695e-01,  3.33333319e-01, -5.00000013e-01],\n",
              "         [ 1.66666695e-01,  3.33333389e-01, -3.33333319e-01],\n",
              "         [ 1.66666695e-01, -5.00000013e-01, -3.33333319e-01]]),\n",
              "  'kpoint_weights': array([0.0092593, 0.0740741, 0.0740741, 0.037037 , 0.0555556, 0.2222222,\n",
              "         0.2222222, 0.2222222, 0.1111111, 0.0555556, 0.2222222, 0.1111111,\n",
              "         0.0277778, 0.2222222, 0.2222222, 0.1111111]),\n",
              "  'natoms': 1,\n",
              "  'nbands': 10,\n",
              "  'nkpts': 16,\n",
              "  'nspins': 1},\n",
              " 'structure': Structure Summary\n",
              " Lattice\n",
              "     abc : 2.5526563911165807 2.5526563911165807 2.5526563911165807\n",
              "  angles : 59.99999999999999 59.99999999999999 59.99999999999999\n",
              "  volume : 11.761482842878042\n",
              "       A : 0.0 1.8050006441977142 1.8050006441977142\n",
              "       B : 1.8050006441977142 0.0 1.8050006441977142\n",
              "       C : 1.8050006441977142 1.8050006441977142 0.0\n",
              "     pbc : True True True\n",
              " PeriodicSite: Cu (0.0, 0.0, 0.0) [0.0, 0.0, 0.0],\n",
              " 'symmetry': {'crystal_system': <CrystalSystem.cubic: 'Cubic'>,\n",
              "  'number': 225,\n",
              "  'point_group': 'm-3m',\n",
              "  'symbol': 'Fm-3m',\n",
              "  'symprec': 0.1,\n",
              "  'version': '2.3.0'},\n",
              " 'volume': 11.761482842878042}"
            ]
          },
          "metadata": {},
          "execution_count": 12
        }
      ]
    },
    {
      "cell_type": "markdown",
      "source": [
        "**Note** On Google colab you have to call the `compute` method."
      ],
      "metadata": {
        "id": "dml9NoVF_9BC"
      }
    },
    {
      "cell_type": "code",
      "source": [
        "job_2 = phonon_job(\n",
        "      job_1['dir_name'],\n",
        "      parallel_info=None,\n",
        "      test_run=False,\n",
        "      occupations='smearing',\n",
        "      smearing='gaussian',\n",
        "      degauss=0.02,\n",
        "      kpts=(6,6,6)\n",
        ")\n",
        "job_2.compute()"
      ],
      "metadata": {
        "id": "uP8FnZji77kE",
        "colab": {
          "base_uri": "https://localhost:8080/"
        },
        "outputId": "da624ad1-936a-419c-d84c-79bb46005c55"
      },
      "execution_count": 13,
      "outputs": [
        {
          "output_type": "execute_result",
          "data": {
            "text/plain": [
              "{'dir_name': '/content/quacc-2024-02-07-19-19-57-868455-57664',\n",
              " 'name': 'ph.x Phonon',\n",
              " 'nid': 'dc64836c3b3e',\n",
              " 'parameters': {'degauss': 0.02,\n",
              "  'input_data': {'inputph': {'tr2_ph': 1e-12, 'alpha_mix(1)': 0.1, 'verbosity': 'high'}},\n",
              "  'kpts': (6, 6, 6),\n",
              "  'occupations': 'smearing',\n",
              "  'qpts': (0, 0, 0),\n",
              "  'smearing': 'gaussian'},\n",
              " 'quacc_version': '0.6.4',\n",
              " 'results': {(0.0,\n",
              "   0.0,\n",
              "   0.0): {'atoms': Atoms(symbols='Cu', pbc=True, cell=[[0.0, 1.8049827756085057, 1.8049827756085057], [1.8049827756085057, 0.0, 1.8049827756085057], [1.8049827756085057, 1.8049827756085057, 0.0]]), 'eqpoints': array([[0., 0., 0.]]), 'freqs': array([0.32597, 0.32597, 0.32597]), 'kpoints': {1: array([[ 0.       ,  0.       ,  0.       ,  0.0092593],\n",
              "           [ 0.1178511,  0.1178511, -0.1178511,  0.0740741],\n",
              "           [ 0.2357023,  0.2357023, -0.2357023,  0.0740741],\n",
              "           [-0.3535534, -0.3535534,  0.3535534,  0.037037 ],\n",
              "           [ 0.2357023,  0.       ,  0.       ,  0.0555556],\n",
              "           [ 0.3535534,  0.1178511, -0.1178511,  0.2222222],\n",
              "           [-0.2357023, -0.4714045,  0.4714045,  0.2222222],\n",
              "           [-0.1178511, -0.3535534,  0.3535534,  0.2222222],\n",
              "           [ 0.       , -0.2357023,  0.2357023,  0.1111111],\n",
              "           [ 0.4714045,  0.       ,  0.       ,  0.0555556],\n",
              "           [-0.1178511, -0.5892557,  0.5892557,  0.2222222],\n",
              "           [-0.       , -0.4714045,  0.4714045,  0.1111111],\n",
              "           [-0.7071068,  0.       ,  0.       ,  0.0277778],\n",
              "           [-0.2357023, -0.4714045,  0.7071068,  0.2222222],\n",
              "           [-0.1178511, -0.3535534,  0.5892557,  0.2222222],\n",
              "           [-0.7071068,  0.2357023,  0.       ,  0.1111111]])}, 'mode_symmetries': {(1,\n",
              "     2,\n",
              "     3): 'T_1u G_15 G_4- I'}, 'qnum': 1, 'representations': {1: {'done': False,\n",
              "     'modes': [array([[-0.71105, -0.     ],\n",
              "             [-0.655  , -0.     ],\n",
              "             [-0.2557 , -0.     ]]),\n",
              "      array([[-0.43489, -0.     ],\n",
              "             [ 0.12391, -0.     ],\n",
              "             [ 0.89192, -0.     ]]),\n",
              "      array([[-0.55252, -0.     ],\n",
              "             [ 0.7454 , -0.     ],\n",
              "             [-0.37296, -0.     ]])]}}}}}"
            ]
          },
          "metadata": {},
          "execution_count": 13
        }
      ]
    },
    {
      "cell_type": "markdown",
      "source": [
        "**The job below will crash on Google colab instances**"
      ],
      "metadata": {
        "id": "5Br6J8UX_v8Q"
      }
    },
    {
      "cell_type": "code",
      "source": [
        "qe_params = {'occupations':'smearing',\n",
        "             'smearing':'gaussian',\n",
        "             'degauss': 0.02,\n",
        "             'kpts': (6,6,6),\n",
        "             'koffset': (0, 0, 0),\n",
        "}\n",
        "ph_flow = grid_phonon_flow(\n",
        "    atoms,\n",
        "    nblocks=0,\n",
        "    job_decorators=None,\n",
        "    job_params={'relax_job':qe_params,\n",
        "                'ph_job':qe_params}\n",
        ")\n",
        "ph_flow.compute()"
      ],
      "metadata": {
        "id": "y2PhDWsU2Coh"
      },
      "execution_count": null,
      "outputs": []
    }
  ]
}